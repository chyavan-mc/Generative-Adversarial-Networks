{
 "cells": [
  {
   "cell_type": "code",
   "execution_count": 1,
   "metadata": {},
   "outputs": [],
   "source": [
    "import keras\n",
    "from keras import layers\n",
    "from tensorflow import nn\n",
    "from keras.datasets import mnist\n",
    "import numpy as np\n",
    "import matplotlib.pyplot as plt\n",
    "from keras.callbacks import EarlyStopping\n",
    "from os.path import exists"
   ]
  },
  {
   "attachments": {},
   "cell_type": "markdown",
   "metadata": {},
   "source": [
    "# MNIST Dataset"
   ]
  },
  {
   "cell_type": "code",
   "execution_count": 2,
   "metadata": {},
   "outputs": [
    {
     "data": {
      "image/png": "[encoded data removed]",
      "text/plain": [
       "<Figure size 432x288 with 1 Axes>"
      ]
     },
     "metadata": {
      "needs_background": "light"
     },
     "output_type": "display_data"
    },
    {
     "data": {
      "text/plain": [
       "(28, 28, 1)"
      ]
     },
     "execution_count": 2,
     "metadata": {},
     "output_type": "execute_result"
    }
   ],
   "source": [
    "(x_train, y_train),(x_test, y_test) = mnist.load_data()\n",
    "x_train, x_test = x_train / 255.0, x_test / 255.0\n",
    "\n",
    "ndata_train = x_train.shape[0]\n",
    "ndata_test = x_test.shape[0]\n",
    "\n",
    "plt.pcolor( x_train[np.random.randint(ndata_train),::-1,:] , cmap = 'gray' )\n",
    "plt.axis('off')\n",
    "plt.show()\n",
    "\n",
    "x_train = x_train.reshape((ndata_train,28,28,1))\n",
    "x_test = x_test.reshape((ndata_test,28,28,1))\n",
    "xshape = x_train.shape[1:]\n",
    "xshape"
   ]
  },
  {
   "attachments": {},
   "cell_type": "markdown",
   "metadata": {},
   "source": [
    "# Autoencoders"
   ]
  },
  {
   "cell_type": "code",
   "execution_count": 3,
   "metadata": {},
   "outputs": [],
   "source": [
    "embedding_shape = 50"
   ]
  },
  {
   "cell_type": "code",
   "execution_count": 4,
   "metadata": {},
   "outputs": [
    {
     "name": "stdout",
     "output_type": "stream",
     "text": [
      "Model: \"model\"\n",
      "_________________________________________________________________\n",
      " Layer (type)                Output Shape              Param #   \n",
      "=================================================================\n",
      " input_1 (InputLayer)        [(None, 28, 28, 1)]       0         \n",
      "                                                                 \n",
      " conv2d (Conv2D)             (None, 28, 28, 16)        160       \n",
      "                                                                 \n",
      " max_pooling2d (MaxPooling2D  (None, 14, 14, 16)       0         \n",
      " )                                                               \n",
      "                                                                 \n",
      " conv2d_1 (Conv2D)           (None, 14, 14, 8)         1160      \n",
      "                                                                 \n",
      " max_pooling2d_1 (MaxPooling  (None, 7, 7, 8)          0         \n",
      " 2D)                                                             \n",
      "                                                                 \n",
      " conv2d_2 (Conv2D)           (None, 7, 7, 8)           584       \n",
      "                                                                 \n",
      " flatten (Flatten)           (None, 392)               0         \n",
      "                                                                 \n",
      " dense (Dense)               (None, 128)               50304     \n",
      "                                                                 \n",
      " dense_1 (Dense)             (None, 100)               12900     \n",
      "                                                                 \n",
      " dense_2 (Dense)             (None, 80)                8080      \n",
      "                                                                 \n",
      " dense_3 (Dense)             (None, 64)                5184      \n",
      "                                                                 \n",
      " dense_4 (Dense)             (None, 50)                3250      \n",
      "                                                                 \n",
      " dense_5 (Dense)             (None, 64)                3264      \n",
      "                                                                 \n",
      " dense_6 (Dense)             (None, 80)                5200      \n",
      "                                                                 \n",
      " dense_7 (Dense)             (None, 100)               8100      \n",
      "                                                                 \n",
      " dense_8 (Dense)             (None, 128)               12928     \n",
      "                                                                 \n",
      " dense_9 (Dense)             (None, 392)               50568     \n",
      "                                                                 \n",
      " reshape (Reshape)           (None, 7, 7, 8)           0         \n",
      "                                                                 \n",
      " conv2d_3 (Conv2D)           (None, 7, 7, 8)           584       \n",
      "                                                                 \n",
      " up_sampling2d (UpSampling2D  (None, 14, 14, 8)        0         \n",
      " )                                                               \n",
      "                                                                 \n",
      " conv2d_4 (Conv2D)           (None, 14, 14, 8)         584       \n",
      "                                                                 \n",
      " up_sampling2d_1 (UpSampling  (None, 28, 28, 8)        0         \n",
      " 2D)                                                             \n",
      "                                                                 \n",
      " conv2d_5 (Conv2D)           (None, 28, 28, 16)        1168      \n",
      "                                                                 \n",
      " conv2d_6 (Conv2D)           (None, 28, 28, 1)         145       \n",
      "                                                                 \n",
      "=================================================================\n",
      "Total params: 164,163\n",
      "Trainable params: 164,163\n",
      "Non-trainable params: 0\n",
      "_________________________________________________________________\n"
     ]
    }
   ],
   "source": [
    "input_img = keras.Input(shape=xshape)\n",
    "\n",
    "x = layers.Conv2D(16, (3, 3), activation='relu', padding='same')(input_img)\n",
    "x = layers.MaxPooling2D((2, 2), padding='same')(x)\n",
    "x = layers.Conv2D(8, (3, 3), activation='relu', padding='same')(x)\n",
    "x = layers.MaxPooling2D((2, 2), padding='same')(x)\n",
    "x = layers.Conv2D(8, (3, 3), activation='relu', padding='same')(x)\n",
    "x = layers.Flatten()(x)\n",
    "x = layers.Dense(128,activation='relu')(x)\n",
    "x = layers.Dense(100,activation='relu')(x)\n",
    "x = layers.Dense(80,activation='relu')(x)\n",
    "x = layers.Dense(64,activation='relu')(x)\n",
    "encoded = layers.Dense(embedding_shape,activation='sigmoid')(x)\n",
    "\n",
    "x = layers.Dense(64,activation='relu')(encoded)\n",
    "x = layers.Dense(80,activation='relu')(x)\n",
    "x = layers.Dense(100,activation='relu')(x)\n",
    "x = layers.Dense(128,activation='relu')(x)\n",
    "x = layers.Dense(392,activation='relu')(x)\n",
    "x = layers.Reshape((7, 7, 8))(x)\n",
    "x = layers.Conv2D(8, (3, 3), activation='relu', padding='same')(x)\n",
    "x = layers.UpSampling2D((2, 2))(x)\n",
    "x = layers.Conv2D(8, (3, 3), activation='relu', padding='same')(x)\n",
    "x = layers.UpSampling2D((2, 2))(x)\n",
    "x = layers.Conv2D(16, (3, 3), activation='relu', padding='same')(x)\n",
    "decoded = layers.Conv2D(1, (3, 3), activation='sigmoid', padding='same')(x)\n",
    "\n",
    "autoencoder = keras.Model(input_img, decoded)\n",
    "autoencoder.compile(optimizer='adam', loss='mse')\n",
    "autoencoder.summary()"
   ]
  },
  {
   "cell_type": "code",
   "execution_count": 5,
   "metadata": {},
   "outputs": [
    {
     "name": "stdout",
     "output_type": "stream",
     "text": [
      "Loading model\n"
     ]
    }
   ],
   "source": [
    "if not exists('./model_weights/autoencoder/autoencoder_model.index'):\n",
    "    print(\"Training model\")\n",
    "    ae_callback = EarlyStopping(\n",
    "        monitor='val_loss',\n",
    "        patience=5,\n",
    "        min_delta=0.0005,\n",
    "        restore_best_weights=True,\n",
    "        verbose=1\n",
    "    )\n",
    "    autoencoder.fit(x_train,x_train,epochs=50,validation_split=0.2,batch_size=256, verbose=1, shuffle=True, callbacks=[ae_callback])\n",
    "    autoencoder.save_weights('./model_weights/autoencoder/autoencoder_model')\n",
    "else:\n",
    "    print(\"Loading model\")\n",
    "    autoencoder.load_weights('./model_weights/autoencoder/autoencoder_model')"
   ]
  },
  {
   "cell_type": "code",
   "execution_count": 6,
   "metadata": {},
   "outputs": [
    {
     "name": "stdout",
     "output_type": "stream",
     "text": [
      "313/313 [==============================] - 2s 2ms/step\n"
     ]
    },
    {
     "data": {
      "image/png": "[encoded data removed]",
      "text/plain": [
       "<Figure size 1440x288 with 20 Axes>"
      ]
     },
     "metadata": {
      "needs_background": "light"
     },
     "output_type": "display_data"
    }
   ],
   "source": [
    "decoded_imgs = autoencoder.predict(x_test)\n",
    "\n",
    "n = 10\n",
    "plt.figure(figsize=(20, 4))\n",
    "for i in range(1, n + 1):\n",
    "    # Display original\n",
    "    ax = plt.subplot(2, n, i)\n",
    "    plt.imshow(x_test[i].reshape(28, 28))\n",
    "    plt.gray()\n",
    "    ax.get_xaxis().set_visible(False)\n",
    "    ax.get_yaxis().set_visible(False)\n",
    "\n",
    "    # Display reconstruction\n",
    "    ax = plt.subplot(2, n, i + n)\n",
    "    plt.imshow(decoded_imgs[i].reshape(28, 28))\n",
    "    plt.gray()\n",
    "    ax.get_xaxis().set_visible(False)\n",
    "    ax.get_yaxis().set_visible(False)\n",
    "plt.show()"
   ]
  },
  {
   "cell_type": "code",
   "execution_count": 7,
   "metadata": {},
   "outputs": [],
   "source": [
    "idx = np.random.randint(x_test.shape[0])"
   ]
  },
  {
   "cell_type": "code",
   "execution_count": 8,
   "metadata": {},
   "outputs": [
    {
     "name": "stdout",
     "output_type": "stream",
     "text": [
      "1/1 [==============================] - 0s 106ms/step\n"
     ]
    },
    {
     "data": {
      "text/plain": [
       "1"
      ]
     },
     "metadata": {},
     "output_type": "display_data"
    },
    {
     "data": {
      "text/plain": [
       "array([[0.48494905, 0.13008761, 0.7595014 , 0.41827664, 0.36394754,\n",
       "        0.07493984, 0.57358116, 0.5252452 , 0.03026726, 0.3184195 ,\n",
       "        0.6637031 , 0.01709539, 0.5547777 , 0.75020397, 0.9287551 ,\n",
       "        0.69755435, 0.2973771 , 0.7089731 , 0.3653343 , 0.5817397 ,\n",
       "        0.07840388, 0.38368684, 0.23674218, 0.605418  , 0.4399961 ,\n",
       "        0.44474822, 0.38632795, 0.99180037, 0.04420195, 0.8405984 ,\n",
       "        0.6250735 , 0.50136644, 0.49827504, 0.18776414, 0.7011591 ,\n",
       "        0.4411143 , 0.8741153 , 0.5147026 , 0.19746642, 0.47177824,\n",
       "        0.02673137, 0.26059523, 0.63896245, 0.5796332 , 0.17804798,\n",
       "        0.9518764 , 0.55145735, 0.30916798, 0.27956167, 0.9988612 ]],\n",
       "      dtype=float32)"
      ]
     },
     "execution_count": 8,
     "metadata": {},
     "output_type": "execute_result"
    }
   ],
   "source": [
    "encoder = keras.Model(input_img, encoded)\n",
    "encoded_op = encoder.predict(x_test[idx:idx+1])\n",
    "display(y_test[idx])\n",
    "encoded_op"
   ]
  },
  {
   "cell_type": "code",
   "execution_count": 9,
   "metadata": {},
   "outputs": [
    {
     "data": {
      "text/plain": [
       "<matplotlib.image.AxesImage at 0x1437e477970>"
      ]
     },
     "execution_count": 9,
     "metadata": {},
     "output_type": "execute_result"
    },
    {
     "data": {
      "image/png": "[encoded data removed]",
      "text/plain": [
       "<Figure size 432x288 with 1 Axes>"
      ]
     },
     "metadata": {
      "needs_background": "light"
     },
     "output_type": "display_data"
    }
   ],
   "source": [
    "reprentn = encoded_op\n",
    "\n",
    "decoder = keras.Model(encoded, decoded)\n",
    "plt.imshow(\n",
    "    decoder(reprentn + 0.5*np.random.random()).numpy().reshape((28, 28))\n",
    ")"
   ]
  },
  {
   "attachments": {},
   "cell_type": "markdown",
   "metadata": {},
   "source": [
    "# Neural Net"
   ]
  },
  {
   "cell_type": "code",
   "execution_count": 10,
   "metadata": {},
   "outputs": [
    {
     "name": "stdout",
     "output_type": "stream",
     "text": [
      "Model: \"model_3\"\n",
      "_________________________________________________________________\n",
      " Layer (type)                Output Shape              Param #   \n",
      "=================================================================\n",
      " input_3 (InputLayer)        [(None, 28, 28, 1)]       0         \n",
      "                                                                 \n",
      " conv2d_7 (Conv2D)           (None, 28, 28, 32)        320       \n",
      "                                                                 \n",
      " max_pooling2d_2 (MaxPooling  (None, 26, 26, 32)       0         \n",
      " 2D)                                                             \n",
      "                                                                 \n",
      " conv2d_8 (Conv2D)           (None, 24, 24, 64)        18496     \n",
      "                                                                 \n",
      " max_pooling2d_3 (MaxPooling  (None, 11, 11, 64)       0         \n",
      " 2D)                                                             \n",
      "                                                                 \n",
      " conv2d_9 (Conv2D)           (None, 9, 9, 128)         73856     \n",
      "                                                                 \n",
      " max_pooling2d_4 (MaxPooling  (None, 3, 3, 128)        0         \n",
      " 2D)                                                             \n",
      "                                                                 \n",
      " flatten_1 (Flatten)         (None, 1152)              0         \n",
      "                                                                 \n",
      " dense_10 (Dense)            (None, 100)               115300    \n",
      "                                                                 \n",
      " dense_11 (Dense)            (None, 80)                8080      \n",
      "                                                                 \n",
      " dense_12 (Dense)            (None, 60)                4860      \n",
      "                                                                 \n",
      " dense_13 (Dense)            (None, 40)                2440      \n",
      "                                                                 \n",
      " dense_14 (Dense)            (None, 20)                820       \n",
      "                                                                 \n",
      " dense_15 (Dense)            (None, 10)                210       \n",
      "                                                                 \n",
      "=================================================================\n",
      "Total params: 224,382\n",
      "Trainable params: 224,382\n",
      "Non-trainable params: 0\n",
      "_________________________________________________________________\n"
     ]
    }
   ],
   "source": [
    "ip_classifier = keras.Input(shape=xshape)\n",
    "\n",
    "x = layers.Conv2D(filters=32,kernel_size=(3,3),padding=\"same\")(ip_classifier)\n",
    "x = layers.MaxPooling2D(pool_size=(3,3), strides=1)(x)\n",
    "x = layers.Conv2D(filters=64,kernel_size=(3,3), activation='relu')(x)\n",
    "x = layers.MaxPooling2D(pool_size=(4,4), strides=2)(x)\n",
    "x = layers.Conv2D(filters=128,kernel_size=(3,3),activation='relu')(x)\n",
    "x = layers.MaxPooling2D(pool_size=(4,4), strides=2)(x)\n",
    "x = layers.Flatten()(x)\n",
    "x = layers.Dense(100,activation='relu')(x)\n",
    "x = layers.Dense(80,activation='relu')(x)\n",
    "x = layers.Dense(60,activation='relu')(x)\n",
    "x = layers.Dense(40,activation='relu')(x)\n",
    "x = layers.Dense(20,activation='relu')(x)\n",
    "op_classifier = layers.Dense(10,activation='softmax')(x)\n",
    "\n",
    "classifier_model = keras.Model(ip_classifier, op_classifier)\n",
    "classifier_model.compile(optimizer='Nadam', loss='sparse_categorical_crossentropy', metrics=['accuracy'])\n",
    "\n",
    "classifier_model.summary()"
   ]
  },
  {
   "cell_type": "code",
   "execution_count": 11,
   "metadata": {},
   "outputs": [
    {
     "name": "stdout",
     "output_type": "stream",
     "text": [
      "Loading model\n"
     ]
    }
   ],
   "source": [
    "if not exists('./model_weights/neural-net/classifier_model.index'):\n",
    "    print(\"Training model\")\n",
    "    cl_callback = EarlyStopping(\n",
    "        monitor='val_accuracy',\n",
    "        patience=5,\n",
    "        min_delta=0.0002,\n",
    "        restore_best_weights=True,\n",
    "        verbose=1\n",
    "    )\n",
    "    classifier_model.fit(x_train,y_train,epochs=50,validation_split=0.2,batch_size=128, verbose=1, shuffle=True, callbacks=[cl_callback])\n",
    "    classifier_model.save_weights('./model_weights/neural-net/classifier_model')\n",
    "else:\n",
    "    print(\"Loading model\")\n",
    "    classifier_model.load_weights('./model_weights/neural-net/classifier_model')"
   ]
  },
  {
   "cell_type": "code",
   "execution_count": 12,
   "metadata": {},
   "outputs": [
    {
     "name": "stdout",
     "output_type": "stream",
     "text": [
      "313/313 [==============================] - 1s 2ms/step\n",
      "0.9913\n"
     ]
    }
   ],
   "source": [
    "pred_probs = classifier_model.predict(x_test)\n",
    "pred2 = np.argmax(pred_probs, axis=1)\n",
    "print(np.mean(pred2==y_test))"
   ]
  },
  {
   "attachments": {},
   "cell_type": "markdown",
   "metadata": {},
   "source": [
    "# AutoEncoder + Neural network"
   ]
  },
  {
   "cell_type": "code",
   "execution_count": 13,
   "metadata": {},
   "outputs": [
    {
     "name": "stdout",
     "output_type": "stream",
     "text": [
      "Model: \"model_4\"\n",
      "_________________________________________________________________\n",
      " Layer (type)                Output Shape              Param #   \n",
      "=================================================================\n",
      " input_4 (InputLayer)        [(None, 28, 28, 1)]       0         \n",
      "                                                                 \n",
      " model (Functional)          (None, 28, 28, 1)         164163    \n",
      "                                                                 \n",
      " conv2d_10 (Conv2D)          (None, 28, 28, 32)        320       \n",
      "                                                                 \n",
      " max_pooling2d_5 (MaxPooling  (None, 26, 26, 32)       0         \n",
      " 2D)                                                             \n",
      "                                                                 \n",
      " conv2d_11 (Conv2D)          (None, 24, 24, 64)        18496     \n",
      "                                                                 \n",
      " max_pooling2d_6 (MaxPooling  (None, 11, 11, 64)       0         \n",
      " 2D)                                                             \n",
      "                                                                 \n",
      " conv2d_12 (Conv2D)          (None, 9, 9, 128)         73856     \n",
      "                                                                 \n",
      " max_pooling2d_7 (MaxPooling  (None, 3, 3, 128)        0         \n",
      " 2D)                                                             \n",
      "                                                                 \n",
      " flatten_2 (Flatten)         (None, 1152)              0         \n",
      "                                                                 \n",
      " dense_16 (Dense)            (None, 100)               115300    \n",
      "                                                                 \n",
      " dense_17 (Dense)            (None, 80)                8080      \n",
      "                                                                 \n",
      " dense_18 (Dense)            (None, 60)                4860      \n",
      "                                                                 \n",
      " dense_19 (Dense)            (None, 40)                2440      \n",
      "                                                                 \n",
      " dense_20 (Dense)            (None, 20)                820       \n",
      "                                                                 \n",
      " dense_21 (Dense)            (None, 10)                210       \n",
      "                                                                 \n",
      "=================================================================\n",
      "Total params: 388,545\n",
      "Trainable params: 224,382\n",
      "Non-trainable params: 164,163\n",
      "_________________________________________________________________\n"
     ]
    }
   ],
   "source": [
    "autoencoder.trainable = False\n",
    "\n",
    "ip_aeclassifier = keras.Input(shape=xshape)\n",
    "x = autoencoder(ip_aeclassifier, training=False)\n",
    "x = layers.Conv2D(filters=32,kernel_size=(3,3),padding=\"same\")(x)\n",
    "x = layers.MaxPooling2D(pool_size=(3,3), strides=1)(x)\n",
    "x = layers.Conv2D(filters=64,kernel_size=(3,3), activation='relu')(x)\n",
    "x = layers.MaxPooling2D(pool_size=(4,4), strides=2)(x)\n",
    "x = layers.Conv2D(filters=128,kernel_size=(3,3),activation='relu')(x)\n",
    "x = layers.MaxPooling2D(pool_size=(4,4), strides=2)(x)\n",
    "x = layers.Flatten()(x)\n",
    "x = layers.Dense(100,activation='relu')(x)\n",
    "x = layers.Dense(80,activation='relu')(x)\n",
    "x = layers.Dense(60,activation='relu')(x)\n",
    "x = layers.Dense(40,activation='relu')(x)\n",
    "x = layers.Dense(20,activation='relu')(x)\n",
    "op_aeclassifier = layers.Dense(10,activation='softmax')(x)\n",
    "\n",
    "aeclassifier_model = keras.Model(ip_aeclassifier, op_aeclassifier)\n",
    "aeclassifier_model.compile(optimizer='Nadam', loss='sparse_categorical_crossentropy', metrics=['accuracy'])\n",
    "\n",
    "aeclassifier_model.summary()"
   ]
  },
  {
   "cell_type": "code",
   "execution_count": 14,
   "metadata": {},
   "outputs": [
    {
     "name": "stdout",
     "output_type": "stream",
     "text": [
      "Loading model\n"
     ]
    }
   ],
   "source": [
    "if not exists('./model_weights/ae-nn/aeclassifier_model.index'):\n",
    "    print(\"Training model\")\n",
    "    cl_callback = EarlyStopping(\n",
    "        monitor='val_accuracy',\n",
    "        patience=5,\n",
    "        min_delta=0.0002,\n",
    "        restore_best_weights=True,\n",
    "        verbose=1\n",
    "    )\n",
    "    aeclassifier_model.fit(x_train,y_train,epochs=50,validation_split=0.2,batch_size=128, verbose=1, shuffle=True, callbacks=[cl_callback])\n",
    "    aeclassifier_model.save_weights('./model_weights/ae-nn/aeclassifier_model')\n",
    "else:\n",
    "    print(\"Loading model\")\n",
    "    aeclassifier_model.load_weights('./model_weights/ae-nn/aeclassifier_model')"
   ]
  },
  {
   "cell_type": "code",
   "execution_count": 15,
   "metadata": {},
   "outputs": [
    {
     "name": "stdout",
     "output_type": "stream",
     "text": [
      "313/313 [==============================] - 1s 2ms/step\n",
      "0.9606\n"
     ]
    }
   ],
   "source": [
    "pred_probs = aeclassifier_model.predict(x_test)\n",
    "pred2 = np.argmax(pred_probs, axis=1)\n",
    "print(np.mean(pred2==y_test))"
   ]
  },
  {
   "attachments": {},
   "cell_type": "markdown",
   "metadata": {},
   "source": [
    "# Adversarial image"
   ]
  },
  {
   "attachments": {},
   "cell_type": "markdown",
   "metadata": {},
   "source": [
    "https://www.tensorflow.org/tutorials/generative/adversarial_fgsm"
   ]
  },
  {
   "cell_type": "code",
   "execution_count": 16,
   "metadata": {},
   "outputs": [],
   "source": [
    "from tensorflow import GradientTape, sign\n",
    "import tensorflow as tf"
   ]
  },
  {
   "cell_type": "code",
   "execution_count": 17,
   "metadata": {},
   "outputs": [],
   "source": [
    "loss_object = keras.losses.CategoricalCrossentropy()\n",
    "\n",
    "def get_adversarial_label(prediction, input_label):\n",
    "    pred_copy = prediction.numpy()[0]\n",
    "    pred_copy[input_label] = -1\n",
    "    return np.argmax(pred_copy)\n",
    "\n",
    "def create_adversarial_pattern(input_image, input_label, directed=False):\n",
    "    # x -> [x]\n",
    "    input_image = tf.convert_to_tensor(input_image[None, ...], dtype=None, dtype_hint=None, name=None)\n",
    "\n",
    "    # Gradient\n",
    "    with GradientTape() as tape:\n",
    "        tape.watch(input_image)\n",
    "        prediction = classifier_model(input_image)\n",
    "        if directed:\n",
    "            input_label = get_adversarial_label(prediction, input_label)\n",
    "        # y1 -> [[0,1,0,...0]]\n",
    "        input_label = tf.one_hot(input_label, 10)\n",
    "        input_label = tf.reshape(input_label, (1, 10))\n",
    "        loss = loss_object(input_label, prediction)\n",
    "\n",
    "    # Get the gradients of the loss w.r.t to the input image.\n",
    "    direction = -1 if directed else 1\n",
    "    gradient = tape.gradient(loss, input_image)\n",
    "    signed_grad = (direction*gradient)[0]\n",
    "    return ((signed_grad - signed_grad.numpy().mean())/(signed_grad.numpy().max() - signed_grad.numpy().min() + 10**(-10)))\n",
    "\n",
    "def get_adversarial_image(input_image, input_label, epsilon=0.01, directed=False):\n",
    "    noise = create_adversarial_pattern(input_image, input_label, directed=directed)\n",
    "    adv_x = input_image + epsilon*noise\n",
    "    adv_x = tf.clip_by_value(adv_x, 0, 1)\n",
    "    return adv_x.numpy(), noise.numpy()"
   ]
  },
  {
   "cell_type": "code",
   "execution_count": 18,
   "metadata": {},
   "outputs": [
    {
     "data": {
      "text/plain": [
       "count    7.840000e+02\n",
       "mean     3.229124e-08\n",
       "std      7.628558e-07\n",
       "min     -4.744475e-06\n",
       "25%     -3.638284e-08\n",
       "50%      0.000000e+00\n",
       "75%      6.488976e-08\n",
       "max      7.733064e-06\n",
       "dtype: float64"
      ]
     },
     "execution_count": 18,
     "metadata": {},
     "output_type": "execute_result"
    }
   ],
   "source": [
    "rnd_numb = np.random.randint(y_test.shape[0])\n",
    "test_label = y_test[rnd_numb]\n",
    "test_image = x_test[rnd_numb]\n",
    "\n",
    "grad = create_adversarial_pattern(test_image, test_label)\n",
    "import pandas as pd\n",
    "pd.Series(grad.numpy().reshape((28*28,))).describe()"
   ]
  },
  {
   "cell_type": "code",
   "execution_count": null,
   "metadata": {},
   "outputs": [],
   "source": [
    "def demo_adversarial_attack(input_image, input_label, epsilon=0.01, directed=False):\n",
    "    adv_img, noise = get_adversarial_image(input_image, input_label, epsilon=epsilon, directed=directed)\n",
    "\n",
    "    actual_label = input_label\n",
    "\n",
    "    # Neural network prediction of the original image\n",
    "    pred = classifier_model(input_image[None, ...]).numpy().reshape((10,))\n",
    "    original_prediction_conf = pred.max().round(5)\n",
    "    original_prediction = pred.argmax()\n",
    "\n",
    "    # Neural network prediction of the adversarial image\n",
    "    adv_x = adv_img.reshape((1,*adv_img.shape))\n",
    "    pred = classifier_model(adv_x).numpy().reshape((10,))\n",
    "    adv_prediction_conf = pred.max().round(5)\n",
    "    adv_prediction = pred.argmax()\n",
    "\n",
    "    fig, (ax0, ax1, ax2) = plt.subplots(1, 3)\n",
    "    fig.set_figheight(5)\n",
    "    fig.set_figwidth(18)\n",
    "\n",
    "    print(f\"Actual Label of the Image: {actual_label}\")\n",
    "    \n",
    "    ax0.pcolor(input_image.reshape((28,28))[::-1], cmap='gray')\n",
    "    ax0.axis('off')\n",
    "    ax0.set_title(f\"Original Image\\nPrediction: {original_prediction}\\nConfidence of prediction: {original_prediction_conf}\")\n",
    "\n",
    "    ax1.pcolor(noise.reshape((28,28))[::-1], cmap='gray')\n",
    "    ax1.axis('off')\n",
    "    ax1.set_title(\"Perturbations being added\")\n",
    "\n",
    "    ax2.pcolor(adv_img.reshape((28,28))[::-1], cmap='gray')\n",
    "    ax2.axis('off')\n",
    "    ax2.set_title(f\"Adversarial Image\\nPrediction: {adv_prediction}\\nConfidence of prediction: {adv_prediction_conf}\")"
   ]
  },
  {
   "cell_type": "code",
   "execution_count": null,
   "metadata": {},
   "outputs": [],
   "source": [
    "rnd_numb = np.random.randint(y_test.shape[0])\n",
    "test_label = y_test[rnd_numb]\n",
    "test_image = x_test[rnd_numb]\n",
    "\n",
    "demo_adversarial_attack(test_image, test_label, epsilon=0.1, directed=True)"
   ]
  },
  {
   "cell_type": "code",
   "execution_count": null,
   "metadata": {},
   "outputs": [],
   "source": [
    "def predict_adversarial_labels(input_images, input_labels, epsilon=0.01, directed=False):\n",
    "    n_len = len(input_images)\n",
    "    ret_labels = np.zeros(n_len)\n",
    "    for i in range(n_len):\n",
    "        adv_img, _ = get_adversarial_image(input_images[i], input_labels[i], epsilon=epsilon, directed=directed)\n",
    "        # if i%1000 == 13:\n",
    "        #     plt.pcolor(adv_img.reshape((28,28))[::-1], cmap='gray')\n",
    "        #     plt.show()\n",
    "        adv_x = adv_img.reshape((1,*adv_img.shape))\n",
    "        pred = classifier_model(adv_x).numpy().reshape((10,))\n",
    "        ret_labels[i] = pred.argmax()\n",
    "    return ret_labels"
   ]
  },
  {
   "cell_type": "code",
   "execution_count": null,
   "metadata": {},
   "outputs": [],
   "source": [
    "adversarial_labels = predict_adversarial_labels(x_test, y_test, epsilon=0.9, directed=False)\n",
    "print(np.mean(adversarial_labels==y_test))"
   ]
  },
  {
   "cell_type": "code",
   "execution_count": null,
   "metadata": {},
   "outputs": [],
   "source": [
    "aeclassifier_model"
   ]
  }
 ],
 "metadata": {
  "kernelspec": {
   "display_name": "Python 3",
   "language": "python",
   "name": "python3"
  },
  "language_info": {
   "codemirror_mode": {
    "name": "ipython",
    "version": 3
   },
   "file_extension": ".py",
   "mimetype": "text/x-python",
   "name": "python",
   "nbconvert_exporter": "python",
   "pygments_lexer": "ipython3",
   "version": "3.10.5"
  },
  "orig_nbformat": 4,
  "vscode": {
   "interpreter": {
    "hash": "26de051ba29f2982a8de78e945f0abaf191376122a1563185a90213a26c5da77"
   }
  }
 },
 "nbformat": 4,
 "nbformat_minor": 2
}
